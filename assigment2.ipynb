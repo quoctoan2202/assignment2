{
 "cells": [
  {
   "cell_type": "markdown",
   "metadata": {},
   "source": [
    "This is the second assignment for the Coursera course \"Advanced Machine Learning and Signal Processing\"\n",
    "\n",
    "Again, please insert to code to your ApacheCouchDB based Cloudant instance below using the \"Insert Code\" function of Watson Studio( you've done this in Assignment 1 before)\n",
    "\n",
    "Done, just execute all cells one after the other and you are done - just note that in the last one you have to update your email address (the one you've used for coursera) and obtain a submission token, you get this from the programming assignment directly on coursera.\n",
    "\n",
    "Please fill in the sections labelled with \"###YOUR_CODE_GOES_HERE###\""
   ]
  },
  {
   "cell_type": "code",
   "execution_count": 1,
   "metadata": {},
   "outputs": [],
   "source": [
    "#your cloudant credentials go here\n",
    "###YOUR_CODE_GOES_HERE###\"\n",
    "\n"
   ]
  },
  {
   "cell_type": "markdown",
   "metadata": {},
   "source": [
    "Let's create a SparkSession object and put the Cloudant credentials into it"
   ]
  },
  {
   "cell_type": "code",
   "execution_count": 2,
   "metadata": {},
   "outputs": [],
   "source": [
    "spark = SparkSession\\\n",
    "    .builder\\\n",
    "    .appName(\"Cloudant Spark SQL Example in Python using temp tables\")\\\n",
    "    .config(\"cloudant.host\",credentials_1['custom_url'].split('@')[1])\\\n",
    "    .config(\"cloudant.username\", credentials_1['username'])\\\n",
    "    .config(\"cloudant.password\",credentials_1['password'])\\\n",
    "    .config(\"jsonstore.rdd.partitions\", 1)\\\n",
    "    .getOrCreate()"
   ]
  },
  {
   "cell_type": "markdown",
   "metadata": {},
   "source": [
    "Now it’s time to have a look at the recorded sensor data. You should see data similar to the one exemplified below….\n"
   ]
  },
  {
   "cell_type": "code",
   "execution_count": 3,
   "metadata": {},
   "outputs": [
    {
     "name": "stdout",
     "output_type": "stream",
     "text": [
      "+-----+--------+-----+-----+-----+--------------------+--------------------+\n",
      "|CLASS|SENSORID|    X|    Y|    Z|                 _id|                _rev|\n",
      "+-----+--------+-----+-----+-----+--------------------+--------------------+\n",
      "|    1|aaaaaaaa|-0.02|-0.02|-0.02|175de817e9ba9c70b...|1-2a4c03e5d983364...|\n",
      "|    1|aaaaaaaa|-0.01|-0.01|-0.01|175de817e9ba9c70b...|1-aedd08521768e86...|\n",
      "|    1|aaaaaaaa|-0.02|-0.02|-0.02|175de817e9ba9c70b...|1-2a4c03e5d983364...|\n",
      "|    1|aaaaaaaa|-0.01|-0.01|-0.01|175de817e9ba9c70b...|1-aedd08521768e86...|\n",
      "|    1|aaaaaaaa|-0.02|-0.02|-0.02|175de817e9ba9c70b...|1-2a4c03e5d983364...|\n",
      "|    1|aaaaaaaa| 0.01| 0.01| 0.01|175de817e9ba9c70b...|1-50911026f3d1209...|\n",
      "|    1|aaaaaaaa| 0.01| 0.01| 0.01|175de817e9ba9c70b...|1-50911026f3d1209...|\n",
      "|    1|aaaaaaaa| 0.19| 0.19| 0.19|175de817e9ba9c70b...|1-fb4ef4cb99a62a5...|\n",
      "|    1|aaaaaaaa| 0.01| 0.01| 0.01|175de817e9ba9c70b...|1-50911026f3d1209...|\n",
      "|    1|aaaaaaaa|-0.02|-0.02|-0.02|175de817e9ba9c70b...|1-2a4c03e5d983364...|\n",
      "|    1|aaaaaaaa|  0.0|  0.0|  0.0|175de817e9ba9c70b...|1-714c9494227f549...|\n",
      "|    1|aaaaaaaa|-0.01|-0.01|-0.01|175de817e9ba9c70b...|1-aedd08521768e86...|\n",
      "|    1|aaaaaaaa|-0.02|-0.02|-0.02|175de817e9ba9c70b...|1-2a4c03e5d983364...|\n",
      "|    1|aaaaaaaa|-0.03|-0.03|-0.03|175de817e9ba9c70b...|1-ce3af0656132cb4...|\n",
      "|    1|aaaaaaaa|  0.0|  0.0|  0.0|175de817e9ba9c70b...|1-714c9494227f549...|\n",
      "|    1|aaaaaaaa|-0.03|-0.03|-0.03|175de817e9ba9c70b...|1-ce3af0656132cb4...|\n",
      "|    1|aaaaaaaa|-0.01|-0.01|-0.01|175de817e9ba9c70b...|1-aedd08521768e86...|\n",
      "|    1|aaaaaaaa|-0.01|-0.01|-0.01|175de817e9ba9c70b...|1-aedd08521768e86...|\n",
      "|    1|aaaaaaaa|-0.01|-0.01|-0.01|175de817e9ba9c70b...|1-aedd08521768e86...|\n",
      "|    1|aaaaaaaa|-0.01|-0.01|-0.01|175de817e9ba9c70b...|1-aedd08521768e86...|\n",
      "+-----+--------+-----+-----+-----+--------------------+--------------------+\n",
      "only showing top 20 rows\n",
      "\n"
     ]
    }
   ],
   "source": [
    "df=spark.read.load('shake_classification', \"com.cloudant.spark\")\n",
    "\n",
    "df.createOrReplaceTempView(\"df\")\n",
    "spark.sql(\"SELECT * from df\").show()\n"
   ]
  },
  {
   "cell_type": "markdown",
   "metadata": {},
   "source": [
    "Please create a VectorAssembler which consumed columns X, Y and Z and produces a column “features”\n"
   ]
  },
  {
   "cell_type": "code",
   "execution_count": 26,
   "metadata": {},
   "outputs": [],
   "source": [
    "from pyspark.ml.feature import VectorAssembler\n",
    "vectorAssembler = ###YOUR_CODE_GOES_HERE###\""
   ]
  },
  {
   "cell_type": "markdown",
   "metadata": {},
   "source": [
    "Please insatiate a classifier from the SparkML package and assign it to the classifier variable. Make sure to either\n",
    "1.\tRename the “CLASS” column to “label” or\n",
    "2.\tSpecify the label-column correctly to be “CLASS”\n"
   ]
  },
  {
   "cell_type": "code",
   "execution_count": 27,
   "metadata": {},
   "outputs": [],
   "source": [
    "from pyspark.ml.classification import ###YOUR_CODE_GOES_HERE###\"\n",
    "\n",
    "classifier = ###YOUR_CODE_GOES_HERE###\"\n",
    "\n"
   ]
  },
  {
   "cell_type": "markdown",
   "metadata": {},
   "source": [
    "Let’s train and evaluate…\n"
   ]
  },
  {
   "cell_type": "code",
   "execution_count": 28,
   "metadata": {},
   "outputs": [],
   "source": [
    "from pyspark.ml import Pipeline\n",
    "pipeline = Pipeline(stages=[vectorAssembler, classifier])"
   ]
  },
  {
   "cell_type": "code",
   "execution_count": 29,
   "metadata": {},
   "outputs": [],
   "source": [
    "model = pipeline.fit(df)"
   ]
  },
  {
   "cell_type": "code",
   "execution_count": 31,
   "metadata": {},
   "outputs": [],
   "source": [
    "prediction = model.transform(df)"
   ]
  },
  {
   "cell_type": "code",
   "execution_count": 35,
   "metadata": {},
   "outputs": [
    {
     "name": "stdout",
     "output_type": "stream",
     "text": [
      "+-----+-----+--------+-----+-----+-----+--------------------+--------------------+-------------------+----------+\n",
      "|label|CLASS|SENSORID|    X|    Y|    Z|                 _id|                _rev|           features|prediction|\n",
      "+-----+-----+--------+-----+-----+-----+--------------------+--------------------+-------------------+----------+\n",
      "|    0|    1|aaaaaaaa|-0.02|-0.02|-0.02|175de817e9ba9c70b...|1-2a4c03e5d983364...|[-0.02,-0.02,-0.02]|       0.0|\n",
      "|    0|    1|aaaaaaaa|-0.01|-0.01|-0.01|175de817e9ba9c70b...|1-aedd08521768e86...|[-0.01,-0.01,-0.01]|       0.0|\n",
      "|    0|    1|aaaaaaaa|-0.02|-0.02|-0.02|175de817e9ba9c70b...|1-2a4c03e5d983364...|[-0.02,-0.02,-0.02]|       0.0|\n",
      "|    0|    1|aaaaaaaa|-0.01|-0.01|-0.01|175de817e9ba9c70b...|1-aedd08521768e86...|[-0.01,-0.01,-0.01]|       0.0|\n",
      "|    0|    1|aaaaaaaa|-0.02|-0.02|-0.02|175de817e9ba9c70b...|1-2a4c03e5d983364...|[-0.02,-0.02,-0.02]|       0.0|\n",
      "|    0|    1|aaaaaaaa| 0.01| 0.01| 0.01|175de817e9ba9c70b...|1-50911026f3d1209...|   [0.01,0.01,0.01]|       0.0|\n",
      "|    0|    1|aaaaaaaa| 0.01| 0.01| 0.01|175de817e9ba9c70b...|1-50911026f3d1209...|   [0.01,0.01,0.01]|       0.0|\n",
      "|    0|    1|aaaaaaaa| 0.19| 0.19| 0.19|175de817e9ba9c70b...|1-fb4ef4cb99a62a5...|   [0.19,0.19,0.19]|       0.0|\n",
      "|    0|    1|aaaaaaaa| 0.01| 0.01| 0.01|175de817e9ba9c70b...|1-50911026f3d1209...|   [0.01,0.01,0.01]|       0.0|\n",
      "|    0|    1|aaaaaaaa|-0.02|-0.02|-0.02|175de817e9ba9c70b...|1-2a4c03e5d983364...|[-0.02,-0.02,-0.02]|       0.0|\n",
      "|    0|    1|aaaaaaaa|  0.0|  0.0|  0.0|175de817e9ba9c70b...|1-714c9494227f549...|          (3,[],[])|       0.0|\n",
      "|    0|    1|aaaaaaaa|-0.01|-0.01|-0.01|175de817e9ba9c70b...|1-aedd08521768e86...|[-0.01,-0.01,-0.01]|       0.0|\n",
      "|    0|    1|aaaaaaaa|-0.02|-0.02|-0.02|175de817e9ba9c70b...|1-2a4c03e5d983364...|[-0.02,-0.02,-0.02]|       0.0|\n",
      "|    0|    1|aaaaaaaa|-0.03|-0.03|-0.03|175de817e9ba9c70b...|1-ce3af0656132cb4...|[-0.03,-0.03,-0.03]|       0.0|\n",
      "|    0|    1|aaaaaaaa|  0.0|  0.0|  0.0|175de817e9ba9c70b...|1-714c9494227f549...|          (3,[],[])|       0.0|\n",
      "|    0|    1|aaaaaaaa|-0.03|-0.03|-0.03|175de817e9ba9c70b...|1-ce3af0656132cb4...|[-0.03,-0.03,-0.03]|       0.0|\n",
      "|    0|    1|aaaaaaaa|-0.01|-0.01|-0.01|175de817e9ba9c70b...|1-aedd08521768e86...|[-0.01,-0.01,-0.01]|       0.0|\n",
      "|    0|    1|aaaaaaaa|-0.01|-0.01|-0.01|175de817e9ba9c70b...|1-aedd08521768e86...|[-0.01,-0.01,-0.01]|       0.0|\n",
      "|    0|    1|aaaaaaaa|-0.01|-0.01|-0.01|175de817e9ba9c70b...|1-aedd08521768e86...|[-0.01,-0.01,-0.01]|       0.0|\n",
      "|    0|    1|aaaaaaaa|-0.01|-0.01|-0.01|175de817e9ba9c70b...|1-aedd08521768e86...|[-0.01,-0.01,-0.01]|       0.0|\n",
      "+-----+-----+--------+-----+-----+-----+--------------------+--------------------+-------------------+----------+\n",
      "only showing top 20 rows\n",
      "\n"
     ]
    }
   ],
   "source": [
    "prediction.show()"
   ]
  },
  {
   "cell_type": "code",
   "execution_count": 32,
   "metadata": {},
   "outputs": [
    {
     "data": {
      "text/plain": [
       "0.631578947368421"
      ]
     },
     "execution_count": 32,
     "metadata": {},
     "output_type": "execute_result"
    }
   ],
   "source": [
    "from pyspark.ml.evaluation import MulticlassClassificationEvaluator\n",
    "binEval = MulticlassClassificationEvaluator().setMetricName(\"accuracy\") .setPredictionCol(\"prediction\").setLabelCol(\"label\")\n",
    "    \n",
    "binEval.evaluate(prediction) "
   ]
  },
  {
   "cell_type": "markdown",
   "metadata": {},
   "source": [
    "If you are happy with the result (I’m happy with > 0.55) please submit your solution to the grader by executing the following cells, please don’t forget to obtain an assignment submission token (secret) from the Courera’s graders web page and paste it to the “secret” variable below, including your email address you’ve used for Coursera. (0.55 means that you are performing better than random guesses)\n"
   ]
  },
  {
   "cell_type": "code",
   "execution_count": 36,
   "metadata": {},
   "outputs": [],
   "source": [
    "!rm -Rf a2_m2.json"
   ]
  },
  {
   "cell_type": "code",
   "execution_count": 37,
   "metadata": {},
   "outputs": [],
   "source": [
    "prediction = prediction.repartition(1)\n",
    "prediction.write.json('a2_m2.json')"
   ]
  },
  {
   "cell_type": "code",
   "execution_count": null,
   "metadata": {},
   "outputs": [],
   "source": [
    "!rm -f rklib.py\n",
    "!wget https://raw.githubusercontent.com/romeokienzler/developerWorks/master/coursera/ai/rklib.py"
   ]
  },
  {
   "cell_type": "code",
   "execution_count": 39,
   "metadata": {
    "collapsed": true
   },
   "outputs": [
    {
     "name": "stdout",
     "output_type": "stream",
     "text": [
      "  adding: a2_m2.parquet/ (stored 0%)\r\n",
      "  adding: a2_m2.parquet/.part-00000-1ff92a81-68c8-446b-a54e-a042a8fd7f1e.snappy.parquet.crc (stored 0%)\r\n",
      "  adding: a2_m2.parquet/part-00000-1ff92a81-68c8-446b-a54e-a042a8fd7f1e.snappy.parquet (deflated 44%)\r\n",
      "  adding: a2_m2.parquet/_SUCCESS (stored 0%)\r\n",
      "  adding: a2_m2.parquet/._SUCCESS.crc (stored 0%)\r\n"
     ]
    }
   ],
   "source": [
    "!zip -r a2_m2.json.zip a2_m2.json"
   ]
  },
  {
   "cell_type": "code",
   "execution_count": 41,
   "metadata": {},
   "outputs": [],
   "source": [
    "!base64 a2_m2.json.zip > a2_m2.json.zip.base64"
   ]
  },
  {
   "cell_type": "code",
   "execution_count": 1,
   "metadata": {},
   "outputs": [
    {
     "name": "stdout",
     "output_type": "stream",
     "text": [
      "Submission successful, please check on the coursera grader page for the status\n"
     ]
    }
   ],
   "source": [
    "from rklib import submit\n",
    "key = \"J3sDL2J8EeiaXhILFWw2-g\"\n",
    "part = \"G4P6f\"\n",
    "email = ###YOUR_CODE_GOES_HERE###\"\n",
    "secret = ###YOUR_CODE_GOES_HERE###\"\n",
    "\n",
    "with open('a2_m2.json.zip.base64', 'r') as myfile:\n",
    "    data=myfile.read()\n",
    "submit(email, secret, key, part, [part], data)"
   ]
  }
 ],
 "metadata": {
  "kernelspec": {
   "display_name": "Python 3.5 with Spark 2.1",
   "language": "python",
   "name": "python3-spark21"
  },
  "language_info": {
   "codemirror_mode": {
    "name": "ipython",
    "version": 3
   },
   "file_extension": ".py",
   "mimetype": "text/x-python",
   "name": "python",
   "nbconvert_exporter": "python",
   "pygments_lexer": "ipython3",
   "version": "3.5.4"
  }
 },
 "nbformat": 4,
 "nbformat_minor": 1